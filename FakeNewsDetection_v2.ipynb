{
 "cells": [
  {
   "cell_type": "markdown",
   "metadata": {},
   "source": [
    "**This notebook is dedicated on the detection of fake news. We use the attention-based encoder part of the Transformer and the linguistic features of news content to classify the fake news** \n",
    "\n",
    "**Reference:**\n",
    "- Model: Encoder-Transformer [ https://github.com/tensorflow/models/tree/master/official/transformer ]\n",
    "- Dataset: politifact [ https://github.com/KaiDMML/FakeNewsNet ]\n"
   ]
  },
  {
   "cell_type": "markdown",
   "metadata": {},
   "source": [
    "# Data Processing"
   ]
  },
  {
   "cell_type": "code",
   "execution_count": 1,
   "metadata": {},
   "outputs": [],
   "source": [
    "import os\n",
    "import glob\n",
    "import json\n",
    "import time\n",
    "import collections\n",
    "from utils import tokenizer\n",
    "import tensorflow as tf\n",
    "import numpy as np"
   ]
  },
  {
   "cell_type": "markdown",
   "metadata": {},
   "source": [
    "### Read fake news dataset"
   ]
  },
  {
   "cell_type": "code",
   "execution_count": 2,
   "metadata": {},
   "outputs": [
    {
     "name": "stdout",
     "output_type": "stream",
     "text": [
      " Training: 776 news (324 fake + 452 real) \n",
      " Testing: 195 news (81 fake + 114 real) \n"
     ]
    }
   ],
   "source": [
    "data_dir = \"./dataset/politifact/\"\n",
    "\n",
    "fake_files = glob.glob(os.path.join(data_dir, \"fake/*/*.json\"))\n",
    "real_files = glob.glob(os.path.join(data_dir, \"real/*/*.json\"))\n",
    "\n",
    "# split 80-20 for training/testing\n",
    "train_fake_files = fake_files[:int(0.8*len(fake_files))]\n",
    "test_fake_files = fake_files[int(0.8*len(fake_files)):]\n",
    "train_real_files = real_files[:int(0.8*len(real_files))]\n",
    "test_real_files = real_files[int(0.8*len(real_files)):]\n",
    "\n",
    "## print info\n",
    "print(\" Training: %d news (%d fake + %d real) \" %(len(train_fake_files+train_real_files), \n",
    "                                                   len(train_fake_files) , len(train_real_files)))\n",
    "\n",
    "print(\" Testing: %d news (%d fake + %d real) \" %(len(test_fake_files+test_real_files), \n",
    "                                                   len(test_fake_files) , len(test_real_files)))"
   ]
  },
  {
   "cell_type": "markdown",
   "metadata": {},
   "source": [
    "### BPE encoding"
   ]
  },
  {
   "cell_type": "code",
   "execution_count": 3,
   "metadata": {},
   "outputs": [
    {
     "name": "stdout",
     "output_type": "stream",
     "text": [
      "INFO:tensorflow:Begin steps to create subtoken vocabulary...\n",
      "INFO:tensorflow:Using min_count=6 to generate vocab with target size 32768\n",
      "INFO:tensorflow:\tGenerating subtokens: iteration 0\n",
      "INFO:tensorflow:\tVocab size: 42351\n",
      "INFO:tensorflow:\tGenerating subtokens: iteration 1\n",
      "INFO:tensorflow:\tVocab size: 17088\n",
      "INFO:tensorflow:\tGenerating subtokens: iteration 2\n",
      "INFO:tensorflow:\tVocab size: 17468\n",
      "INFO:tensorflow:\tGenerating subtokens: iteration 3\n",
      "INFO:tensorflow:\tVocab size: 17376\n",
      "INFO:tensorflow:Generated vocabulary with 17376 subtokens.\n",
      "INFO:tensorflow:Initializing Subtokenizer from file ./dataset/politifact/vocab.ende.32768.\n"
     ]
    }
   ],
   "source": [
    "# Generate subword vocabulary\n",
    "_TARGET_VOCAB_SIZE = 32768  # Number of subtokens in the vocabulary list.\n",
    "_TARGET_THRESHOLD = 327  # Accept vocabulary if size is within this threshold\n",
    "VOCAB_FILE = \"vocab.ende.%d\" % _TARGET_VOCAB_SIZE # name of vocabulary\n",
    "\n",
    "# minimum number of times a subtoken must appear before it is added to the vocabulary.\n",
    "_TRAIN_DATA_MIN_COUNT = 6\n",
    "\n",
    "# directory to save the vocabulary\n",
    "vocab_file = os.path.join(data_dir, VOCAB_FILE)\n",
    "\n",
    "# generate subtoken vocabulary from training files\n",
    "subtokenizer = tokenizer.Subtokenizer.init_from_files(\n",
    "      vocab_file, train_fake_files + train_real_files, _TARGET_VOCAB_SIZE, _TARGET_THRESHOLD,\n",
    "      min_count=_TRAIN_DATA_MIN_COUNT)"
   ]
  },
  {
   "cell_type": "code",
   "execution_count": 4,
   "metadata": {},
   "outputs": [
    {
     "name": "stdout",
     "output_type": "stream",
     "text": [
      "INFO:tensorflow:Initializing Subtokenizer from file ./dataset/politifact/vocab.ende.32768.\n"
     ]
    }
   ],
   "source": [
    "# Load vocabulary\n",
    "vocab = tokenizer.Subtokenizer(vocab_file)"
   ]
  },
  {
   "cell_type": "markdown",
   "metadata": {},
   "source": [
    "#### Example encoding and decoding using BPE"
   ]
  },
  {
   "cell_type": "code",
   "execution_count": 5,
   "metadata": {},
   "outputs": [
    {
     "name": "stdout",
     "output_type": "stream",
     "text": [
      " -- Text -- \n",
      "Whoopi Goldberg is in hot water after comments she made Wednesday regarding the Navy SEAL widow that was honored last night during President Donald Trump’s historical speech.\n",
      "\n",
      "“She was just looking for attention. These military widows love their 15 minutes in the spotlight”, Goldberg said.\n",
      "\n",
      "“If it were me I wouldn’t be able to leave the house. How can someone who is truly greiving go out there and be on TV. It just doesn’t make sense to me”\n",
      "\n",
      "After last night’s demonstration where several democrats in leadership roles refused to stand while the widow was being honored, Goldberg continues to make the point that liberals lack a significant amount of class.\n",
      "\n",
      "*** UPDATE- Anyone who believes this story or any other story on this website needs to read this post ***\n",
      "\n",
      ".\n",
      " -- Encoding -- \n",
      "[7350, 5680, 3660, 25, 7442, 8548, 15, 11, 4689, 1649, 207, 1329, 146, 195, 2024, 2270, 3, 1827, 13742, 1095, 6236, 4875, 8, 36, 4337, 203, 864, 393, 124, 446, 163, 22, 12, 7210, 692, 617, 384, 36, 77, 518, 19, 1568, 4, 795, 293, 6236, 9060, 884, 73, 484, 729, 11, 3, 14615, 4616, 7442, 8548, 63, 617, 220, 20, 94, 106, 13, 837, 22, 31, 30, 234, 5, 686, 3, 1249, 4, 516, 57, 770, 48, 15, 2592, 11463, 5433, 2962, 135, 76, 66, 7, 30, 23, 1770, 4, 75, 77, 331, 22, 31, 99, 638, 5, 106, 8861, 1472, 203, 864, 22, 12, 5441, 152, 646, 15652, 11, 717, 11114, 2918, 5, 628, 392, 3, 6236, 4875, 36, 236, 4337, 2, 7442, 8548, 1733, 5, 99, 3, 244, 8, 3670, 2250, 10, 1099, 833, 6, 415, 3633, 7516, 964, 11855, 14107, 375, 8112, 80, 48, 1787, 27, 471, 55, 149, 132, 471, 23, 27, 1534, 584, 5, 997, 27, 1916, 9769, 12328, 2577, 24]\n",
      " -- Decoding -- \n",
      "Whoopi Goldberg is in hot water after comments she made Wednesday regarding the Navy SEAL widow that was honored last night during President Donald Trump’s historical speech.\n",
      "\n",
      "“She was just looking for attention. These military widows love their 15 minutes in the spotlight”, Goldberg said.\n",
      "\n",
      "“If it were me I wouldn’t be able to leave the house. How can someone who is truly greiving go out there and be on TV. It just doesn’t make sense to me”\n",
      "\n",
      "After last night’s demonstration where several democrats in leadership roles refused to stand while the widow was being honored, Goldberg continues to make the point that liberals lack a significant amount of class.\n",
      "\n",
      "*** UPDATE- Anyone who believes this story or any other story on this website needs to read this post ***\n",
      "\n",
      ".\n"
     ]
    }
   ],
   "source": [
    "with open(test_fake_files[38], 'r') as f:\n",
    "    text = json.load(f)[\"text\"]\n",
    "    print(\" -- Text -- \")\n",
    "    print(text)\n",
    "    print(\" -- Encoding -- \")\n",
    "    encode = vocab.encode(text, add_eos=False)\n",
    "    print(encode)\n",
    "    print(\" -- Decoding -- \")\n",
    "    decode = vocab.decode(encode)\n",
    "    print(decode)"
   ]
  },
  {
   "cell_type": "markdown",
   "metadata": {},
   "source": [
    "### Encode the training dataset and testing dataset as the input of the attention model.\n",
    "- We add special token \"EOS\" at the beginning of each news. The output of \"EOS\" token will be used for the classification."
   ]
  },
  {
   "cell_type": "code",
   "execution_count": 6,
   "metadata": {},
   "outputs": [],
   "source": [
    "\"\"\" Training \"\"\"\n",
    "# source news\n",
    "src_train_files = train_fake_files + train_real_files\n",
    "src_train = []\n",
    "for file in src_train_files:\n",
    "    with open(file, 'r') as f:\n",
    "        text = json.load(f)[\"text\"]\n",
    "        src_train.append(vocab.encode(text, add_eos=True))\n",
    "# target labels\n",
    "tgt_train = [[0]]*len(train_fake_files) + [[1]]*len(train_real_files)"
   ]
  },
  {
   "cell_type": "code",
   "execution_count": 7,
   "metadata": {},
   "outputs": [],
   "source": [
    "\"\"\" Testing \"\"\"\n",
    "# source news\n",
    "src_test_files = test_fake_files + test_real_files\n",
    "src_test = []\n",
    "for file in src_test_files:\n",
    "    with open(file, 'r') as f:\n",
    "        text = json.load(f)[\"text\"]\n",
    "        src_test.append(vocab.encode(text, add_eos=True))\n",
    "# target labels\n",
    "tgt_test = [0]*len(test_fake_files) + [1]*len(test_real_files)\n",
    "\n",
    "# padding function to create test iterator during inference\n",
    "def padding_infer_set(infer_set):\n",
    "    \"\"\"\n",
    "        input: [[1,2], [3,4,5]]\n",
    "        return: [[1,2,0], [3,4,5]]\n",
    "    \"\"\"\n",
    "    infer_len = [len(x) for x in infer_set]\n",
    "    padded_infer_set = [list(np.pad(x_, pad_width=((0,max(infer_len)-len(x_))), mode='constant', constant_values=0)) for x_ in infer_set]\n",
    "    return padded_infer_set"
   ]
  },
  {
   "cell_type": "markdown",
   "metadata": {},
   "source": [
    "# Attention Model for Fake News Detections"
   ]
  },
  {
   "cell_type": "markdown",
   "metadata": {},
   "source": [
    "### Import modules"
   ]
  },
  {
   "cell_type": "code",
   "execution_count": 8,
   "metadata": {},
   "outputs": [],
   "source": [
    "from model import attention_layer\n",
    "from model import beam_search\n",
    "from model import embedding_layer\n",
    "from model import ffn_layer\n",
    "from model import model_utils\n",
    "from utils import iterator_utils"
   ]
  },
  {
   "cell_type": "markdown",
   "metadata": {},
   "source": [
    "### Define Layers"
   ]
  },
  {
   "cell_type": "code",
   "execution_count": 9,
   "metadata": {},
   "outputs": [],
   "source": [
    "class LayerNormalization(tf.layers.Layer):\n",
    "    \"\"\"Applies layer normalization.\"\"\"\n",
    "\n",
    "    def __init__(self, hidden_size):\n",
    "        super(LayerNormalization, self).__init__()\n",
    "        self.hidden_size = hidden_size\n",
    "\n",
    "    def build(self, _):\n",
    "        self.scale = tf.get_variable(\"layer_norm_scale\", [self.hidden_size],\n",
    "                                 initializer=tf.ones_initializer())\n",
    "        self.bias = tf.get_variable(\"layer_norm_bias\", [self.hidden_size],\n",
    "                                initializer=tf.zeros_initializer())\n",
    "        self.built = True\n",
    "\n",
    "    def call(self, x, epsilon=1e-6):\n",
    "        mean = tf.reduce_mean(x, axis=[-1], keepdims=True)\n",
    "        variance = tf.reduce_mean(tf.square(x - mean), axis=[-1], keepdims=True)\n",
    "        norm_x = (x - mean) * tf.rsqrt(variance + epsilon)\n",
    "        return norm_x * self.scale + self.bias"
   ]
  },
  {
   "cell_type": "code",
   "execution_count": 10,
   "metadata": {},
   "outputs": [],
   "source": [
    "class PrePostProcessingWrapper(object):\n",
    "    \"\"\"Wrapper class that applies layer pre-processing and post-processing.\"\"\"\n",
    "\n",
    "    def __init__(self, layer, params, train):\n",
    "        self.layer = layer\n",
    "        self.postprocess_dropout = params[\"layer_postprocess_dropout\"]\n",
    "        self.train = train\n",
    "\n",
    "        # Create normalization layer\n",
    "        self.layer_norm = LayerNormalization(params[\"hidden_size\"])\n",
    "\n",
    "    def __call__(self, x, *args, **kwargs):\n",
    "        # Preprocessing: apply layer normalization\n",
    "        y = self.layer_norm(x)\n",
    "\n",
    "        # Get layer output\n",
    "        y, p_attn = self.layer(y, *args, **kwargs)\n",
    "\n",
    "        # Postprocessing: apply dropout and residual connection\n",
    "        if self.train:\n",
    "            y = tf.nn.dropout(y, 1 - self.postprocess_dropout)\n",
    "        return x + y, p_attn\n"
   ]
  },
  {
   "cell_type": "code",
   "execution_count": 11,
   "metadata": {},
   "outputs": [],
   "source": [
    "class EncoderStack(tf.layers.Layer):\n",
    "    \"\"\"Transformer encoder stack.\n",
    "    The encoder stack is made up of N identical layers. Each layer is composed\n",
    "    of the sublayers:\n",
    "    1. Self-attention layer\n",
    "    2. Feedforward network (which is 2 fully-connected layers)\n",
    "    \"\"\"\n",
    "\n",
    "    def __init__(self, params, train):\n",
    "        super(EncoderStack, self).__init__()\n",
    "        self.layers = []\n",
    "        for _ in range(params[\"num_hidden_layers\"]):\n",
    "            # Create sublayers for each layer.\n",
    "            self_attention_layer = attention_layer.SelfAttention(\n",
    "              params[\"hidden_size\"], params[\"num_heads\"],\n",
    "              params[\"attention_dropout\"], train)\n",
    "            feed_forward_network = ffn_layer.FeedFowardNetwork(\n",
    "              params[\"hidden_size\"], params[\"filter_size\"],\n",
    "              params[\"relu_dropout\"], train, params[\"allow_ffn_pad\"])\n",
    "\n",
    "            self.layers.append([\n",
    "              PrePostProcessingWrapper(self_attention_layer, params, train),\n",
    "              PrePostProcessingWrapper(feed_forward_network, params, train)])\n",
    "\n",
    "        # Create final layer normalization layer.\n",
    "        self.output_normalization = LayerNormalization(params[\"hidden_size\"])\n",
    "\n",
    "    def call(self, encoder_inputs, attention_bias, inputs_padding):\n",
    "        \"\"\"Return the output of the encoder layer stacks.\n",
    "\n",
    "        Args:\n",
    "          encoder_inputs: tensor with shape [batch_size, input_length, hidden_size]\n",
    "          attention_bias: bias for the encoder self-attention layer.\n",
    "            [batch_size, 1, 1, input_length]\n",
    "          inputs_padding: P\n",
    "\n",
    "        Returns:\n",
    "          Output of encoder layer stack.\n",
    "          float32 tensor with shape [batch_size, input_length, hidden_size]\n",
    "        \"\"\"\n",
    "        enc_attn = []\n",
    "        for n, layer in enumerate(self.layers):\n",
    "            # Run inputs through the sublayers.\n",
    "            self_attention_layer = layer[0]\n",
    "            feed_forward_network = layer[1]\n",
    "\n",
    "            with tf.variable_scope(\"layer_%d\" % n):\n",
    "                with tf.variable_scope(\"self_attention\"):\n",
    "                    encoder_inputs, enc_attn_tmp = self_attention_layer(encoder_inputs, attention_bias)\n",
    "                    enc_attn.append(enc_attn_tmp)\n",
    "                with tf.variable_scope(\"ffn\"):\n",
    "                    encoder_inputs,_ = feed_forward_network(encoder_inputs, inputs_padding)\n",
    "\n",
    "        return self.output_normalization(encoder_inputs), enc_attn"
   ]
  },
  {
   "cell_type": "markdown",
   "metadata": {},
   "source": [
    "### Define parameters"
   ]
  },
  {
   "cell_type": "code",
   "execution_count": 38,
   "metadata": {},
   "outputs": [],
   "source": [
    "params = collections.defaultdict(\n",
    "    lambda: None,  # Set default value to None.\n",
    "\n",
    "    batch_size=200,  # batch of examples.\n",
    "    max_length=200,  # Maximum number of tokens per example.\n",
    "    init_op=\"glorot_uniform\", # initializer\n",
    "    random_seed=12345, # random seed\n",
    "    init_weight=0.01, # initialize weights\n",
    "    \n",
    "    # Model params\n",
    "    vocab_size=33708,  # Number of tokens defined in the vocabulary file.\n",
    "    hidden_size=128,  # Model dimension in the hidden layers.\n",
    "    num_hidden_layers=4,  # Number of layers in the encoder and decoder stacks.\n",
    "    num_heads=8,  # Number of heads to use in multi-headed attention.\n",
    "    filter_size=256,  # Inner layer dimension in the feedforward network.\n",
    "    allow_ffn_pad=True, \n",
    "\n",
    "\n",
    "    # Dropout values (only used when training)\n",
    "    layer_postprocess_dropout=0.1,\n",
    "    attention_dropout=0.1,\n",
    "    relu_dropout=0.1,\n",
    "\n",
    "    # Training params\n",
    "    learning_rate=0.01,\n",
    "    warmup_steps=25,\n",
    "    start_decay_step=25,\n",
    "    decay_steps=15,\n",
    "    \n",
    "    # adam Optimizer params\n",
    "    optimizer_adam_beta1=0.9,\n",
    "    optimizer_adam_beta2=0.997,\n",
    "    optimizer_adam_epsilon=1e-09,\n",
    "    max_gradient_norm=7,\n",
    "    \n",
    "    # Others\n",
    "    model_dir=\"./dataset/politifact/model/\", # to store checkpoints\n",
    ")"
   ]
  },
  {
   "cell_type": "markdown",
   "metadata": {},
   "source": [
    "### Define Model"
   ]
  },
  {
   "cell_type": "code",
   "execution_count": 39,
   "metadata": {},
   "outputs": [],
   "source": [
    "class TrainOutputTuple(collections.namedtuple(\n",
    "    \"TrainOutputTuple\", (\"train_loss\", \n",
    "                         \"global_step\", \"grad_norm\",\n",
    "                         \"learning_rate\"))):\n",
    "    pass\n",
    "\n",
    "class InferOutputTuple(collections.namedtuple(\n",
    "    \"InferOutputTuple\", (\"infer_logprob\", \"attn_align\"))):\n",
    "    pass\n",
    "\n",
    "\n",
    "class Transformer(object):\n",
    "    def __init__(self, hparams, mode, iterator): \n",
    "        self.hparams = hparams\n",
    "        self._set_params_initializer(mode, iterator)\n",
    "        \n",
    "        # Train graph\n",
    "        res = self.build_graph()\n",
    "        self._set_train_or_infer(res)\n",
    "\n",
    "        # Saver\n",
    "        self.saver = tf.train.Saver(\n",
    "            tf.global_variables(), max_to_keep=None)         \n",
    "\n",
    " \n",
    "    def _set_params_initializer(self, mode, iterator):\n",
    "        # set encoder stack and embedding input layer\n",
    "        self.encoder_stack = EncoderStack(self.hparams, mode == tf.contrib.learn.ModeKeys.TRAIN)  \n",
    "        self.embedding_softmax_layer = embedding_layer.EmbeddingSharedWeights(\n",
    "            self.hparams[\"vocab_size\"], self.hparams[\"hidden_size\"], method=\"gather\")  \n",
    "        \n",
    "        \"\"\" Set various params for self and initialize. \"\"\"\n",
    "        assert isinstance(iterator, iterator_utils.BatchedInput)\n",
    "        self.iterator = iterator\n",
    "        self.mode = mode\n",
    "\n",
    "        # Set data type\n",
    "        self.dtype = tf.float32\n",
    "    \n",
    "        # Global step\n",
    "        self.global_step = tf.Variable(0, trainable=False)\n",
    "\n",
    "        # Initializer\n",
    "        initializer = model_utils.get_initializer(\n",
    "            self.hparams[\"init_op\"], self.hparams[\"random_seed\"], self.hparams[\"init_weight\"])\n",
    "        tf.get_variable_scope().set_initializer(initializer)\n",
    "        \n",
    "    def _set_train_or_infer(self, res): \n",
    "        \"\"\"Set up training and inference.\"\"\"\n",
    "        if self.mode == tf.contrib.learn.ModeKeys.TRAIN:\n",
    "            self.train_loss = res[1]\n",
    "        elif self.mode == tf.contrib.learn.ModeKeys.INFER:\n",
    "            self.infer_logprob,_, self.attn_align = res\n",
    "\n",
    "        params = tf.trainable_variables()\n",
    "\n",
    "        # Gradients and update operation for training the model.\n",
    "        # Arrange for the embedding vars to appear at the beginning.\n",
    "        if self.mode == tf.contrib.learn.ModeKeys.TRAIN:\n",
    "            self.learning_rate = tf.constant(self.hparams[\"learning_rate\"])\n",
    "            # warm-up\n",
    "            self.learning_rate = self._get_learning_rate_warmup()\n",
    "            # decay\n",
    "            self.learning_rate = self._get_learning_rate_decay()\n",
    "\n",
    "            # Optimizer\n",
    "            opt = tf.train.AdamOptimizer(self.learning_rate,     \n",
    "                                         beta1=self.hparams[\"optimizer_adam_beta1\"],\n",
    "                                         beta2=self.hparams[\"optimizer_adam_beta2\"],\n",
    "                                         epsilon=self.hparams[\"optimizer_adam_epsilon\"])\n",
    "\n",
    "            # Gradients\n",
    "            gradients = tf.gradients(\n",
    "              self.train_loss,\n",
    "              params)\n",
    "            clipped_grads, grad_norm_summary, grad_norm = model_utils.gradient_clip(\n",
    "              gradients, max_gradient_norm=self.hparams[\"max_gradient_norm\"])\n",
    "            self.grad_norm = grad_norm\n",
    "\n",
    "            self.update = opt.apply_gradients(\n",
    "              zip(clipped_grads, params), global_step=self.global_step)\n",
    "\n",
    "\n",
    "    def build_graph(self):\n",
    "        with tf.variable_scope(\"Transformer\", dtype=self.dtype):\n",
    "            # Calculate attention bias for encoder self-attention and decoder\n",
    "            # multi-headed attention layers.\n",
    "            attention_bias = model_utils.get_padding_bias(self.iterator.source) \n",
    "\n",
    "            # Encoder\n",
    "            encoder_outputs, enc_attn = self._encode(self.iterator.source, attention_bias)\n",
    "\n",
    "            # get the label prediction by apply ffn layer to output of \"EOS\" token\n",
    "            prediction = tf.layers.dense(encoder_outputs[:,0,:],\n",
    "              units=2, kernel_initializer=tf.truncated_normal_initializer(\n",
    "                      mean=0.0, stddev=.1), use_bias=True, name=\"output_projection\")\n",
    "            prediction = tf.nn.log_softmax(prediction, axis=-1)\n",
    "\n",
    "            # Loss\n",
    "            if self.mode != tf.contrib.learn.ModeKeys.INFER:\n",
    "                loss = self._compute_loss(prediction)\n",
    "            else:\n",
    "                loss = tf.constant(0.0)\n",
    "                   \n",
    "            return prediction, loss, enc_attn\n",
    "\n",
    "    def _compute_loss(self, prediction):\n",
    "        \"\"\"Compute cross-entropy loss.\"\"\"\n",
    "        target_labels = self.iterator.target\n",
    "        target_labels = tf.keras.backend.reshape(target_labels, [-1])\n",
    "        target_labels_one_hot = tf.keras.backend.one_hot(target_labels, 2)\n",
    "        loss = -tf.keras.backend.sum(\n",
    "            target_labels_one_hot * prediction, axis=-1)\n",
    "        loss = tf.keras.backend.mean(loss)\n",
    "        return loss\n",
    "        \n",
    "    def _encode(self, inputs, attention_bias):\n",
    "        \"\"\"Generate continuous representation for inputs.\n",
    "\n",
    "        Args:\n",
    "          inputs: int tensor with shape [batch_size, input_length].\n",
    "          attention_bias: float tensor with shape [batch_size, 1, 1, input_length]\n",
    "\n",
    "        Returns:\n",
    "          float tensor with shape [batch_size, input_length, hidden_size]\n",
    "        \"\"\"\n",
    "        with tf.name_scope(\"encode\"):\n",
    "            # Prepare inputs to the layer stack by adding positional encodings and\n",
    "            # applying dropout.\n",
    "            embedded_inputs = self.embedding_softmax_layer(inputs)\n",
    "            inputs_padding = model_utils.get_padding(inputs)\n",
    "\n",
    "            with tf.name_scope(\"add_pos_encoding\"):\n",
    "                length = tf.shape(embedded_inputs)[1]\n",
    "                pos_encoding = model_utils.get_position_encoding(\n",
    "                    length, self.hparams[\"hidden_size\"])\n",
    "                encoder_inputs = embedded_inputs + pos_encoding\n",
    "\n",
    "            if self.train:\n",
    "                encoder_inputs = tf.nn.dropout(\n",
    "                    encoder_inputs, 1 - self.hparams[\"layer_postprocess_dropout\"])\n",
    "\n",
    "            return self.encoder_stack(encoder_inputs, attention_bias, inputs_padding)\n",
    "\n",
    "    \n",
    "    def _get_learning_rate_warmup(self):\n",
    "        \"\"\"Get learning rate warmup.\"\"\"\n",
    "        warmup_steps = self.hparams[\"warmup_steps\"]\n",
    "        # When step < warmup_steps,\n",
    "        #   learing_rate *= warmup_factor ** (warmup_steps - step)\n",
    "\n",
    "        # 0.01^(1/warmup_steps): we start with a lr, 100 times smaller\n",
    "        warmup_factor = tf.exp(tf.log(0.01) / warmup_steps)\n",
    "        inv_decay = warmup_factor**(\n",
    "          tf.to_float(warmup_steps - self.global_step))\n",
    "\n",
    "        return tf.cond(\n",
    "            self.global_step < warmup_steps,\n",
    "            lambda: inv_decay * self.learning_rate,\n",
    "            lambda: self.learning_rate,\n",
    "            name=\"learning_rate_warmup_cond\")\n",
    "\n",
    "    def _get_learning_rate_decay(self):\n",
    "        \"\"\"Get learning rate decay.\"\"\"\n",
    "        start_decay_step = self.hparams[\"start_decay_step\"]\n",
    "        decay_steps = self.hparams[\"decay_steps\"]\n",
    "        if (decay_steps):\n",
    "            decay_factor = 0.5\n",
    "        else:\n",
    "            decay_factor = 1.0\n",
    "\n",
    "        return tf.cond(\n",
    "            self.global_step < start_decay_step,\n",
    "            lambda: self.learning_rate,\n",
    "            lambda: tf.train.exponential_decay(\n",
    "                self.learning_rate,\n",
    "                (self.global_step - start_decay_step),\n",
    "                decay_steps, decay_factor, staircase=True),\n",
    "            name=\"learning_rate_decay_cond\") \n",
    "    \n",
    "    def train(self, sess):\n",
    "        \"\"\" Execute train graph. \"\"\"\n",
    "        assert self.mode == tf.contrib.learn.ModeKeys.TRAIN\n",
    "        output_tuple = TrainOutputTuple(train_loss=self.train_loss,         \n",
    "                                        global_step=self.global_step,            \n",
    "                                        grad_norm=self.grad_norm,\n",
    "                                        learning_rate=self.learning_rate)\n",
    "        return sess.run([self.update, output_tuple])\n",
    "    \n",
    "    def infer(self, sess):\n",
    "        \"\"\" Execute the inference graph \"\"\"\n",
    "        assert self.mode == tf.contrib.learn.ModeKeys.INFER\n",
    "        output_tuple = InferOutputTuple(infer_logprob=self.infer_logprob,\n",
    "                                        attn_align=self.attn_align)\n",
    "        return sess.run(output_tuple)"
   ]
  },
  {
   "cell_type": "markdown",
   "metadata": {},
   "source": [
    "#### Create Train and Inference models"
   ]
  },
  {
   "cell_type": "code",
   "execution_count": 40,
   "metadata": {},
   "outputs": [],
   "source": [
    "\"\"\" Train model \"\"\"\n",
    "class TrainModel(\n",
    "    collections.namedtuple(\"TrainModel\", (\"graph\", \"model\", \"iterator\",\n",
    "                                          \"skip_count_placeholder\"))):\n",
    "    pass\n",
    "\n",
    "def create_train_model(\n",
    "    model_creator, src_train, tgt_train, hparams):\n",
    "    \n",
    "    graph = tf.Graph()\n",
    "    with graph.as_default(), tf.container(\"train\"):\n",
    "        src_dataset = tf.data.Dataset.from_generator(lambda: src_train, tf.int32, output_shapes=[None])\n",
    "        tgt_dataset = tf.data.Dataset.from_generator(lambda: tgt_train, tf.int32, output_shapes=[None])\n",
    "        skip_count_placeholder = tf.placeholder(shape=(), dtype=tf.int64)\n",
    "        iterator = iterator_utils.get_iterator(\n",
    "            src_dataset,\n",
    "            tgt_dataset,\n",
    "            hparams[\"batch_size\"], \n",
    "            hparams[\"max_length\"])\n",
    "\n",
    "        model = model_creator(\n",
    "              hparams,\n",
    "              mode=tf.contrib.learn.ModeKeys.TRAIN,\n",
    "              iterator=iterator)\n",
    "\n",
    "    return TrainModel(\n",
    "      graph=graph,\n",
    "      model=model,\n",
    "      iterator=iterator,\n",
    "      skip_count_placeholder=skip_count_placeholder)"
   ]
  },
  {
   "cell_type": "code",
   "execution_count": 41,
   "metadata": {},
   "outputs": [],
   "source": [
    "\"\"\" Inference model \"\"\"\n",
    "class InferModel(\n",
    "    collections.namedtuple(\"InferModel\",\n",
    "                           (\"graph\", \"model\", \"src_placeholder\",\n",
    "                            \"batch_size_placeholder\", \"iterator\"))):\n",
    "    pass\n",
    "\n",
    "def create_infer_model(model_creator, hparams):\n",
    "    \"\"\"Create inference model.\"\"\"\n",
    "    graph = tf.Graph()\n",
    "    with graph.as_default(), tf.container(\"infer\"):\n",
    "        src_placeholder = tf.placeholder(shape=[None, None], dtype=tf.int32)\n",
    "        batch_size_placeholder = tf.placeholder(shape=[], dtype=tf.int64)\n",
    "\n",
    "        src_dataset = tf.data.Dataset.from_tensor_slices(\n",
    "            src_placeholder)\n",
    "        iterator = iterator_utils.get_infer_iterator(\n",
    "            src_dataset,\n",
    "            batch_size_placeholder, \n",
    "            hparams[\"max_length\"])\n",
    "        model = model_creator(\n",
    "            hparams,\n",
    "            mode=tf.contrib.learn.ModeKeys.INFER,\n",
    "            iterator=iterator)\n",
    "    return InferModel(\n",
    "      graph=graph,\n",
    "      model=model,\n",
    "      src_placeholder=src_placeholder,\n",
    "      batch_size_placeholder=batch_size_placeholder,\n",
    "      iterator=iterator)"
   ]
  },
  {
   "cell_type": "code",
   "execution_count": 42,
   "metadata": {},
   "outputs": [],
   "source": [
    "train_model = create_train_model(Transformer, src_train, tgt_train, params)\n",
    "infer_model = create_infer_model(Transformer,  params)"
   ]
  },
  {
   "cell_type": "markdown",
   "metadata": {},
   "source": [
    "#### Create Train and Inference session"
   ]
  },
  {
   "cell_type": "code",
   "execution_count": 43,
   "metadata": {},
   "outputs": [],
   "source": [
    "train_sess = tf.Session(graph=train_model.graph)\n",
    "infer_sess = tf.Session(graph=infer_model.graph)"
   ]
  },
  {
   "cell_type": "markdown",
   "metadata": {},
   "source": [
    "## Training and Inference"
   ]
  },
  {
   "cell_type": "markdown",
   "metadata": {},
   "source": [
    "#### Define stats that will be printed during training"
   ]
  },
  {
   "cell_type": "code",
   "execution_count": 44,
   "metadata": {},
   "outputs": [],
   "source": [
    "def init_stats():\n",
    "    \"\"\" Initialize statistics that we want to accumulate during the training.\"\"\"\n",
    "    return {\"step_time\": 0.0, \"train_loss\": 0.0, \"grad_norm\": 0.0, \"epoch\":0, \"lr\": 0.0}\n",
    "\n",
    "stats = init_stats()\n",
    "\n",
    "def update_stats(start_time, step_result):\n",
    "    _, output_tuple = step_result\n",
    "    # Update statistics  \n",
    "    stats[\"step_time\"] += time.time() - start_time\n",
    "    stats[\"grad_norm\"] += output_tuple.grad_norm\n",
    "    stats[\"train_loss\"] += output_tuple.train_loss \n",
    "    return (output_tuple.global_step, output_tuple.learning_rate)\n"
   ]
  },
  {
   "cell_type": "markdown",
   "metadata": {},
   "source": [
    "#### Training"
   ]
  },
  {
   "cell_type": "code",
   "execution_count": 45,
   "metadata": {},
   "outputs": [],
   "source": [
    "\"\"\" intialize or load weights \"\"\"\n",
    "with train_model.graph.as_default():\n",
    "    loaded_train_model, global_step = model_utils.create_or_load_model(\n",
    "        train_model.model, params[\"model_dir\"], train_sess, \"train\")"
   ]
  },
  {
   "cell_type": "code",
   "execution_count": 46,
   "metadata": {},
   "outputs": [],
   "source": [
    "\"\"\" initialize the iterator of training dataset \"\"\"\n",
    "train_sess.run(train_model.iterator.initializer,\n",
    "                  feed_dict={train_model.skip_count_placeholder: 0})"
   ]
  },
  {
   "cell_type": "code",
   "execution_count": 47,
   "metadata": {
    "scrolled": true
   },
   "outputs": [
    {
     "name": "stdout",
     "output_type": "stream",
     "text": [
      "# Epoch 0/40 \n",
      " Finished an epoch, step 4. \n",
      "INFO:tensorflow:./dataset/politifact/model/translate.ckpt-4 is not in all_model_checkpoint_paths. Manually adding it.\n",
      "  - lr 0.00017378 step-time 18.11s train_loss 2.86 grad_Norm 5.14\n",
      "# Epoch 1/40 \n",
      " Finished an epoch, step 8. \n",
      "INFO:tensorflow:./dataset/politifact/model/translate.ckpt-8 is not in all_model_checkpoint_paths. Manually adding it.\n",
      "  - lr 0.000363078 step-time 13.15s train_loss 2.72 grad_Norm 5.95\n",
      "# Epoch 2/40 \n",
      " Finished an epoch, step 12. \n",
      "INFO:tensorflow:./dataset/politifact/model/translate.ckpt-12 is not in all_model_checkpoint_paths. Manually adding it.\n",
      "  - lr 0.000758577 step-time 13.13s train_loss 2.60 grad_Norm 6.14\n",
      "# Epoch 3/40 \n",
      " Finished an epoch, step 16. \n",
      "INFO:tensorflow:./dataset/politifact/model/translate.ckpt-16 is not in all_model_checkpoint_paths. Manually adding it.\n",
      "  - lr 0.00158489 step-time 13.10s train_loss 2.41 grad_Norm 7.63\n",
      "# Epoch 4/40 \n",
      " Finished an epoch, step 20. \n",
      "INFO:tensorflow:./dataset/politifact/model/translate.ckpt-20 is not in all_model_checkpoint_paths. Manually adding it.\n",
      "  - lr 0.00331131 step-time 13.06s train_loss 2.25 grad_Norm 14.60\n",
      "# Epoch 5/40 \n",
      " Finished an epoch, step 24. \n",
      "INFO:tensorflow:./dataset/politifact/model/translate.ckpt-24 is not in all_model_checkpoint_paths. Manually adding it.\n",
      "  - lr 0.00691831 step-time 13.04s train_loss 2.40 grad_Norm 19.51\n",
      "# Epoch 6/40 \n",
      " Finished an epoch, step 28. \n",
      "INFO:tensorflow:./dataset/politifact/model/translate.ckpt-28 is not in all_model_checkpoint_paths. Manually adding it.\n",
      "  - lr 0.01 step-time 13.20s train_loss 1.16 grad_Norm 6.79\n",
      "# Epoch 7/40 \n",
      " Finished an epoch, step 32. \n",
      "INFO:tensorflow:./dataset/politifact/model/translate.ckpt-32 is not in all_model_checkpoint_paths. Manually adding it.\n",
      "  - lr 0.01 step-time 13.18s train_loss 0.75 grad_Norm 5.34\n",
      "# Epoch 8/40 \n",
      " Finished an epoch, step 36. \n",
      "INFO:tensorflow:./dataset/politifact/model/translate.ckpt-36 is not in all_model_checkpoint_paths. Manually adding it.\n",
      "  - lr 0.01 step-time 13.07s train_loss 0.51 grad_Norm 2.61\n",
      "# Epoch 9/40 \n",
      " Finished an epoch, step 40. \n",
      "INFO:tensorflow:./dataset/politifact/model/translate.ckpt-40 is not in all_model_checkpoint_paths. Manually adding it.\n",
      "  - lr 0.01 step-time 13.13s train_loss 0.50 grad_Norm 2.05\n",
      "# Epoch 10/40 \n",
      " Finished an epoch, step 44. \n",
      "INFO:tensorflow:./dataset/politifact/model/translate.ckpt-44 is not in all_model_checkpoint_paths. Manually adding it.\n",
      "  - lr 0.005 step-time 13.01s train_loss 0.42 grad_Norm 0.88\n",
      "# Epoch 11/40 \n",
      " Finished an epoch, step 48. \n",
      "INFO:tensorflow:./dataset/politifact/model/translate.ckpt-48 is not in all_model_checkpoint_paths. Manually adding it.\n",
      "  - lr 0.005 step-time 13.01s train_loss 0.40 grad_Norm 0.96\n",
      "# Epoch 12/40 \n",
      " Finished an epoch, step 52. \n",
      "INFO:tensorflow:./dataset/politifact/model/translate.ckpt-52 is not in all_model_checkpoint_paths. Manually adding it.\n",
      "  - lr 0.005 step-time 13.02s train_loss 0.41 grad_Norm 0.81\n",
      "# Epoch 13/40 \n",
      " Finished an epoch, step 56. \n",
      "INFO:tensorflow:./dataset/politifact/model/translate.ckpt-56 is not in all_model_checkpoint_paths. Manually adding it.\n",
      "  - lr 0.0025 step-time 13.05s train_loss 0.37 grad_Norm 0.64\n",
      "# Epoch 14/40 \n",
      " Finished an epoch, step 60. \n",
      "INFO:tensorflow:./dataset/politifact/model/translate.ckpt-60 is not in all_model_checkpoint_paths. Manually adding it.\n",
      "  - lr 0.0025 step-time 13.04s train_loss 0.37 grad_Norm 0.66\n",
      "# Epoch 15/40 \n",
      " Finished an epoch, step 64. \n",
      "INFO:tensorflow:./dataset/politifact/model/translate.ckpt-64 is not in all_model_checkpoint_paths. Manually adding it.\n",
      "  - lr 0.0025 step-time 13.07s train_loss 0.36 grad_Norm 0.70\n",
      "# Epoch 16/40 \n",
      " Finished an epoch, step 68. \n",
      "INFO:tensorflow:./dataset/politifact/model/translate.ckpt-68 is not in all_model_checkpoint_paths. Manually adding it.\n",
      "  - lr 0.0025 step-time 13.03s train_loss 0.36 grad_Norm 0.68\n",
      "# Epoch 17/40 \n",
      " Finished an epoch, step 72. \n",
      "INFO:tensorflow:./dataset/politifact/model/translate.ckpt-72 is not in all_model_checkpoint_paths. Manually adding it.\n",
      "  - lr 0.00125 step-time 13.03s train_loss 0.36 grad_Norm 0.69\n",
      "# Epoch 18/40 \n",
      " Finished an epoch, step 76. \n",
      "INFO:tensorflow:./dataset/politifact/model/translate.ckpt-76 is not in all_model_checkpoint_paths. Manually adding it.\n",
      "  - lr 0.00125 step-time 13.01s train_loss 0.36 grad_Norm 0.52\n",
      "# Epoch 19/40 \n",
      " Finished an epoch, step 80. \n",
      "INFO:tensorflow:./dataset/politifact/model/translate.ckpt-80 is not in all_model_checkpoint_paths. Manually adding it.\n",
      "  - lr 0.00125 step-time 13.06s train_loss 0.36 grad_Norm 0.68\n",
      "# Epoch 20/40 \n",
      " Finished an epoch, step 84. \n",
      "INFO:tensorflow:./dataset/politifact/model/translate.ckpt-84 is not in all_model_checkpoint_paths. Manually adding it.\n",
      "  - lr 0.00125 step-time 13.03s train_loss 0.36 grad_Norm 0.63\n",
      "# Epoch 21/40 \n",
      " Finished an epoch, step 88. \n",
      "INFO:tensorflow:./dataset/politifact/model/translate.ckpt-88 is not in all_model_checkpoint_paths. Manually adding it.\n",
      "  - lr 0.000625 step-time 13.03s train_loss 0.36 grad_Norm 0.64\n",
      "# Epoch 22/40 \n",
      " Finished an epoch, step 92. \n",
      "INFO:tensorflow:./dataset/politifact/model/translate.ckpt-92 is not in all_model_checkpoint_paths. Manually adding it.\n",
      "  - lr 0.000625 step-time 13.06s train_loss 0.35 grad_Norm 0.65\n",
      "# Epoch 23/40 \n",
      " Finished an epoch, step 96. \n",
      "INFO:tensorflow:./dataset/politifact/model/translate.ckpt-96 is not in all_model_checkpoint_paths. Manually adding it.\n",
      "  - lr 0.000625 step-time 13.06s train_loss 0.35 grad_Norm 0.61\n",
      "# Epoch 24/40 \n",
      " Finished an epoch, step 100. \n",
      "INFO:tensorflow:./dataset/politifact/model/translate.ckpt-100 is not in all_model_checkpoint_paths. Manually adding it.\n",
      "  - lr 0.000625 step-time 13.07s train_loss 0.34 grad_Norm 0.61\n",
      "# Epoch 25/40 \n",
      " Finished an epoch, step 104. \n",
      "INFO:tensorflow:./dataset/politifact/model/translate.ckpt-104 is not in all_model_checkpoint_paths. Manually adding it.\n",
      "  - lr 0.0003125 step-time 13.05s train_loss 0.35 grad_Norm 0.60\n",
      "# Epoch 26/40 \n",
      " Finished an epoch, step 108. \n",
      "INFO:tensorflow:./dataset/politifact/model/translate.ckpt-108 is not in all_model_checkpoint_paths. Manually adding it.\n",
      "  - lr 0.0003125 step-time 13.03s train_loss 0.35 grad_Norm 0.58\n",
      "# Epoch 27/40 \n",
      " Finished an epoch, step 112. \n",
      "INFO:tensorflow:./dataset/politifact/model/translate.ckpt-112 is not in all_model_checkpoint_paths. Manually adding it.\n",
      "  - lr 0.0003125 step-time 13.04s train_loss 0.35 grad_Norm 0.56\n",
      "# Epoch 28/40 \n",
      " Finished an epoch, step 116. \n",
      "INFO:tensorflow:./dataset/politifact/model/translate.ckpt-116 is not in all_model_checkpoint_paths. Manually adding it.\n",
      "  - lr 0.00015625 step-time 13.02s train_loss 0.34 grad_Norm 0.60\n",
      "# Epoch 29/40 \n",
      " Finished an epoch, step 120. \n",
      "INFO:tensorflow:./dataset/politifact/model/translate.ckpt-120 is not in all_model_checkpoint_paths. Manually adding it.\n",
      "  - lr 0.00015625 step-time 13.18s train_loss 0.36 grad_Norm 0.61\n",
      "# Epoch 30/40 \n",
      " Finished an epoch, step 124. \n",
      "INFO:tensorflow:./dataset/politifact/model/translate.ckpt-124 is not in all_model_checkpoint_paths. Manually adding it.\n",
      "  - lr 0.00015625 step-time 13.20s train_loss 0.36 grad_Norm 0.62\n",
      "# Epoch 31/40 \n",
      " Finished an epoch, step 128. \n",
      "INFO:tensorflow:./dataset/politifact/model/translate.ckpt-128 is not in all_model_checkpoint_paths. Manually adding it.\n",
      "  - lr 0.00015625 step-time 13.04s train_loss 0.35 grad_Norm 0.66\n",
      "# Epoch 32/40 \n",
      " Finished an epoch, step 132. \n",
      "INFO:tensorflow:./dataset/politifact/model/translate.ckpt-132 is not in all_model_checkpoint_paths. Manually adding it.\n",
      "  - lr 7.8125e-05 step-time 13.08s train_loss 0.36 grad_Norm 0.57\n",
      "# Epoch 33/40 \n",
      " Finished an epoch, step 136. \n",
      "INFO:tensorflow:./dataset/politifact/model/translate.ckpt-136 is not in all_model_checkpoint_paths. Manually adding it.\n",
      "  - lr 7.8125e-05 step-time 13.07s train_loss 0.36 grad_Norm 0.61\n",
      "# Epoch 34/40 \n",
      " Finished an epoch, step 140. \n",
      "INFO:tensorflow:./dataset/politifact/model/translate.ckpt-140 is not in all_model_checkpoint_paths. Manually adding it.\n",
      "  - lr 7.8125e-05 step-time 13.02s train_loss 0.35 grad_Norm 0.58\n",
      "# Epoch 35/40 \n",
      " Finished an epoch, step 144. \n",
      "INFO:tensorflow:./dataset/politifact/model/translate.ckpt-144 is not in all_model_checkpoint_paths. Manually adding it.\n",
      "  - lr 7.8125e-05 step-time 13.00s train_loss 0.36 grad_Norm 0.65\n",
      "# Epoch 36/40 \n",
      " Finished an epoch, step 148. \n",
      "INFO:tensorflow:./dataset/politifact/model/translate.ckpt-148 is not in all_model_checkpoint_paths. Manually adding it.\n",
      "  - lr 3.90625e-05 step-time 13.06s train_loss 0.34 grad_Norm 0.66\n",
      "# Epoch 37/40 \n",
      " Finished an epoch, step 152. \n",
      "INFO:tensorflow:./dataset/politifact/model/translate.ckpt-152 is not in all_model_checkpoint_paths. Manually adding it.\n",
      "  - lr 3.90625e-05 step-time 13.04s train_loss 0.35 grad_Norm 0.56\n",
      "# Epoch 38/40 \n",
      " Finished an epoch, step 156. \n",
      "INFO:tensorflow:./dataset/politifact/model/translate.ckpt-156 is not in all_model_checkpoint_paths. Manually adding it.\n",
      "  - lr 3.90625e-05 step-time 13.04s train_loss 0.35 grad_Norm 0.66\n",
      "# Epoch 39/40 \n",
      " Finished an epoch, step 160. \n",
      "INFO:tensorflow:./dataset/politifact/model/translate.ckpt-160 is not in all_model_checkpoint_paths. Manually adding it.\n",
      "  - lr 3.90625e-05 step-time 13.05s train_loss 0.34 grad_Norm 0.62\n"
     ]
    }
   ],
   "source": [
    "num_epochs = 40\n",
    "\"\"\" Run train \"\"\"\n",
    "for iter in range(num_epochs):\n",
    "    print(\"# Epoch %d/%d \" %(iter, num_epochs))\n",
    "    isEnd = False\n",
    "    while not isEnd:\n",
    "        ### Run a step ### \n",
    "        start_time = time.time()\n",
    "        try:\n",
    "            step_result = loaded_train_model.train(train_sess)\n",
    "            global_step, learning_rate = update_stats(start_time, step_result)\n",
    "\n",
    "        except tf.errors.OutOfRangeError:\n",
    "            print(\" Finished an epoch, step %d. \" %global_step)\n",
    "            loaded_train_model.saver.save(\n",
    "                train_sess,\n",
    "                os.path.join(params[\"model_dir\"], \"translate.ckpt\"),\n",
    "                global_step=global_step)\n",
    "\n",
    "            train_sess.run(\n",
    "                train_model.iterator.initializer,\n",
    "                feed_dict={train_model.skip_count_placeholder: 0})\n",
    "\n",
    "            print(\"  - lr %g step-time %.2fs train_loss %.2f grad_Norm %.2f\" %\n",
    "                  (learning_rate, stats[\"step_time\"],\n",
    "                    stats[\"train_loss\"], stats[\"grad_norm\"]))\n",
    "\n",
    "            stats = init_stats()\n",
    "            isEnd = True\n"
   ]
  },
  {
   "cell_type": "markdown",
   "metadata": {},
   "source": [
    "#### Inference on full test dataset"
   ]
  },
  {
   "cell_type": "code",
   "execution_count": 48,
   "metadata": {},
   "outputs": [
    {
     "name": "stdout",
     "output_type": "stream",
     "text": [
      "WARNING:tensorflow:From /usr/local/lib/python3.5/dist-packages/tensorflow/python/training/saver.py:1266: checkpoint_exists (from tensorflow.python.training.checkpoint_management) is deprecated and will be removed in a future version.\n",
      "Instructions for updating:\n",
      "Use standard file APIs to check for files with this prefix.\n",
      "INFO:tensorflow:Restoring parameters from ./dataset/politifact/model/translate.ckpt-160\n",
      "  loaded infer model parameters from ./dataset/politifact/model/translate.ckpt-160, time 0.19s\n"
     ]
    }
   ],
   "source": [
    "\"\"\" Load trained parameters into infer model \"\"\"\n",
    "with infer_model.graph.as_default():\n",
    "    loaded_infer_model, global_step = model_utils.create_or_load_model(\n",
    "        infer_model.model, params[\"model_dir\"], infer_sess, \"infer\")"
   ]
  },
  {
   "cell_type": "code",
   "execution_count": 49,
   "metadata": {},
   "outputs": [],
   "source": [
    "\"\"\" initialize the iterator of test dataset \"\"\"\n",
    "infer_sess.run(infer_model.iterator.initializer, \n",
    "               feed_dict={infer_model.src_placeholder: padding_infer_set(src_test) , \n",
    "                          infer_model.batch_size_placeholder: len(src_test)})\n",
    "\n",
    "\"\"\" get the predicted log_probabilities \"\"\"\n",
    "infer_output = loaded_infer_model.infer(infer_sess)\n",
    "\n",
    "\"\"\" convert to predicted label: 0 for fake news and 1 for real news \"\"\"\n",
    "predict_prob = np.exp(infer_output.infer_logprob)\n",
    "predict_label = [0 if x[0]>=x[1] else 1 for x in predict_prob]"
   ]
  },
  {
   "cell_type": "code",
   "execution_count": 50,
   "metadata": {},
   "outputs": [
    {
     "data": {
      "image/png": "[encoded data removed]",
      "text/plain": [
       "<Figure size 576x432 with 2 Axes>"
      ]
     },
     "metadata": {
      "needs_background": "light"
     },
     "output_type": "display_data"
    }
   ],
   "source": [
    "\"\"\" Plot confusion matrix \"\"\"\n",
    "from sklearn.metrics import confusion_matrix\n",
    "conf_mat = confusion_matrix(tgt_test, predict_label)\n",
    "model_utils.plot_confusion_matrix(conf_mat, target_names=[\"0\", \"1\"])"
   ]
  },
  {
   "cell_type": "code",
   "execution_count": 51,
   "metadata": {},
   "outputs": [
    {
     "name": "stdout",
     "output_type": "stream",
     "text": [
      " Precision: 0.81\n",
      " Recall: 0.81\n",
      " F1: 0.81\n",
      " Accuracy: 0.85\n"
     ]
    }
   ],
   "source": [
    "\"\"\" Compute classification metrics \"\"\"\n",
    "TP = conf_mat[0][0]\n",
    "TN = conf_mat[1][1]\n",
    "FN = conf_mat[0][1]\n",
    "FP = conf_mat[1][0]\n",
    "Precision = TP/(TP+FP)\n",
    "Recall = TP/(TP+FN)\n",
    "print(\" Precision: %.2f\" % Precision)\n",
    "print(\" Recall: %.2f\" % Recall)\n",
    "print(\" F1: %.2f\" % (2*Precision*Recall/(Precision+Recall)))\n",
    "print(\" Accuracy: %.2f\" % ((TP+TN)/(TP+TN+FP+FN)))"
   ]
  },
  {
   "cell_type": "markdown",
   "metadata": {},
   "source": [
    "\n",
    "**Compare to other models**\n",
    "\n",
    "- SAF/S: only use news contents (similar to this notebook)\n",
    "- SAF/A: only use social context\n",
    "- SAF: combine news contents and social context\n",
    "\n",
    "<img src=\"./performance.png\" />"
   ]
  },
  {
   "cell_type": "markdown",
   "metadata": {},
   "source": [
    "#### Inference on 1 sample"
   ]
  },
  {
   "cell_type": "code",
   "execution_count": 79,
   "metadata": {},
   "outputs": [
    {
     "name": "stdout",
     "output_type": "stream",
     "text": [
      "--- News ---\n",
      "<EOS>FormerUS President Barack Obama, in custody of the US military police, has informed on his drug dealing bosses, according to sources in Japanese military intelligence.\n",
      "\n",
      "As a result of this, an airplane filled with Afghan Heroin and North Korean amphetamines was impounded at Argyle International Airport on St. Vincent and the Grenadines in the Caribbean, the sources say. The money raised from this drug flight was intended to be used to finance the operations of Daesh (formerly known as ISIS), the sources say. This impoundment follows the capture of an Obama linked ship containing 4.2 tons of cocaine, the sources note.\n",
      "\n",
      "You can see the video below:\n",
      "\n",
      "This is the developing story.\n",
      "\n",
      "We will keep you updated soon.\n",
      "\n",
      "--- True: Fake news -- Predict: Fake news with confidence: 0.83 ---\n"
     ]
    }
   ],
   "source": [
    "test_index = 18\n",
    "assert test_index<len(src_test)\n",
    "\"\"\" feed 1 sample \"\"\"\n",
    "infer_sess.run(infer_model.iterator.initializer, \n",
    "               feed_dict={infer_model.src_placeholder: [src_test[test_index]] , \n",
    "                          infer_model.batch_size_placeholder: 1})\n",
    "\n",
    "\"\"\" get the predicted log_probabilities \"\"\"\n",
    "infer_output = loaded_infer_model.infer(infer_sess)\n",
    "\n",
    "\"\"\" convert to predicted label: 0 for fake news and 1 for real news \"\"\"\n",
    "predict_prob = np.exp(infer_output.infer_logprob)\n",
    "predict_label = [0 if x[0]>=x[1] else 1 for x in predict_prob]\n",
    "\n",
    "\"\"\" print results \"\"\"\n",
    "print(\"--- News ---\")\n",
    "print(vocab.decode(src_test[test_index]))\n",
    "print(\"\\n--- True: %s -- Predict: %s with confidence: %.2f ---\" \n",
    "                                      %(\"Real news\" if tgt_test[test_index] else \"Fake news\",\n",
    "                                          \"Real news\" if predict_label[0] else \"Fake news\",\n",
    "                                            predict_prob[0][1] if predict_label[0] else predict_prob[0][0]))"
   ]
  },
  {
   "cell_type": "markdown",
   "metadata": {},
   "source": [
    "#### **Attention visualization**\n",
    "\n",
    "We visualize the contribution of each token at the last encoder layer to the \"EOS\" token, which is used for the classification."
   ]
  },
  {
   "cell_type": "code",
   "execution_count": 59,
   "metadata": {},
   "outputs": [],
   "source": [
    "import seaborn as sns\n",
    "import matplotlib.pyplot as plt"
   ]
  },
  {
   "cell_type": "code",
   "execution_count": 80,
   "metadata": {},
   "outputs": [
    {
     "data": {
      "image/png": "[encoded data removed]",
      "text/plain": [
       "<Figure size 1080x360 with 2 Axes>"
      ]
     },
     "metadata": {},
     "output_type": "display_data"
    }
   ],
   "source": [
    "sns.set(rc={'figure.figsize':(15,5)})\n",
    "ax = sns.heatmap(infer_output.attn_align[-1][0,:,0,:])\n",
    "plt.xlabel(\"Token\")\n",
    "plt.ylabel(\"Head\")\n",
    "plt.show()"
   ]
  },
  {
   "cell_type": "markdown",
   "metadata": {},
   "source": [
    "Attentions are very sharp at token positions 18-22 and 40-45. We print the texts at those positions."
   ]
  },
  {
   "cell_type": "code",
   "execution_count": 88,
   "metadata": {},
   "outputs": [
    {
     "name": "stdout",
     "output_type": "stream",
     "text": [
      "-- Texts in the news content contribute the most to the detection. \n",
      "his drug dealing bosses\n",
      "with Afghan Heroin\n"
     ]
    }
   ],
   "source": [
    "print(\"-- Texts in the news content contribute the most to the detection. \")\n",
    "print(vocab.decode(src_test[test_index][18:22]))\n",
    "print(vocab.decode(src_test[test_index][40:45]))"
   ]
  },
  {
   "cell_type": "markdown",
   "metadata": {},
   "source": [
    "#### Another sample"
   ]
  },
  {
   "cell_type": "code",
   "execution_count": 104,
   "metadata": {},
   "outputs": [
    {
     "name": "stdout",
     "output_type": "stream",
     "text": [
      "--- News ---\n",
      "<EOS>10:30 pm last night police received a call about gun fire in Miami Gardens.Manager killed 10 employees because they was stealing money and tons of supplies.\n",
      "\n",
      "--- True: Fake news -- Predict: Fake news with confidence: 0.99 ---\n"
     ]
    }
   ],
   "source": [
    "test_index = 23\n",
    "assert test_index<len(src_test)\n",
    "\"\"\" feed 1 sample \"\"\"\n",
    "infer_sess.run(infer_model.iterator.initializer, \n",
    "               feed_dict={infer_model.src_placeholder: [src_test[test_index]] , \n",
    "                          infer_model.batch_size_placeholder: 1})\n",
    "\n",
    "\"\"\" get the predicted log_probabilities \"\"\"\n",
    "infer_output = loaded_infer_model.infer(infer_sess)\n",
    "\n",
    "\"\"\" convert to predicted label: 0 for fake news and 1 for real news \"\"\"\n",
    "predict_prob = np.exp(infer_output.infer_logprob)\n",
    "predict_label = [0 if x[0]>=x[1] else 1 for x in predict_prob]\n",
    "\n",
    "\"\"\" print results \"\"\"\n",
    "print(\"--- News ---\")\n",
    "print(vocab.decode(src_test[test_index]))\n",
    "print(\"\\n--- True: %s -- Predict: %s with confidence: %.2f ---\" \n",
    "                                      %(\"Real news\" if tgt_test[test_index] else \"Fake news\",\n",
    "                                          \"Real news\" if predict_label[0] else \"Fake news\",\n",
    "                                            predict_prob[0][1] if predict_label[0] else predict_prob[0][0]))"
   ]
  },
  {
   "cell_type": "code",
   "execution_count": 105,
   "metadata": {},
   "outputs": [
    {
     "data": {
      "image/png": "[encoded data removed]",
      "text/plain": [
       "<Figure size 1080x360 with 2 Axes>"
      ]
     },
     "metadata": {},
     "output_type": "display_data"
    }
   ],
   "source": [
    "sns.set(rc={'figure.figsize':(15,5)})\n",
    "ax = sns.heatmap(infer_output.attn_align[-1][0,:,0,:])\n",
    "plt.xlabel(\"Token\")\n",
    "plt.ylabel(\"Head\")\n",
    "plt.show()"
   ]
  },
  {
   "cell_type": "markdown",
   "metadata": {},
   "source": [
    "Texts contribute equally to the detection!!"
   ]
  }
 ],
 "metadata": {
  "kernelspec": {
   "display_name": "Python 3",
   "language": "python",
   "name": "python3"
  },
  "language_info": {
   "codemirror_mode": {
    "name": "ipython",
    "version": 3
   },
   "file_extension": ".py",
   "mimetype": "text/x-python",
   "name": "python",
   "nbconvert_exporter": "python",
   "pygments_lexer": "ipython3",
   "version": "3.7.3"
  }
 },
 "nbformat": 4,
 "nbformat_minor": 2
}
